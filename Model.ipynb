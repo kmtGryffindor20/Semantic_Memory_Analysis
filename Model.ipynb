{
 "cells": [
  {
   "cell_type": "code",
   "execution_count": 217,
   "metadata": {},
   "outputs": [],
   "source": [
    "import pandas as pd\n",
    "import numpy as np\n",
    "from sklearn.feature_extraction.text import TfidfVectorizer\n",
    "from sklearn.decomposition import TruncatedSVD\n",
    "from gensim.models import Word2Vec as w2v\n",
    "import math\n",
    "from nltk import ngrams"
   ]
  },
  {
   "cell_type": "code",
   "execution_count": 5,
   "metadata": {},
   "outputs": [
    {
     "data": {
      "text/html": [
       "<div>\n",
       "<style scoped>\n",
       "    .dataframe tbody tr th:only-of-type {\n",
       "        vertical-align: middle;\n",
       "    }\n",
       "\n",
       "    .dataframe tbody tr th {\n",
       "        vertical-align: top;\n",
       "    }\n",
       "\n",
       "    .dataframe thead th {\n",
       "        text-align: right;\n",
       "    }\n",
       "</style>\n",
       "<table border=\"1\" class=\"dataframe\">\n",
       "  <thead>\n",
       "    <tr style=\"text-align: right;\">\n",
       "      <th></th>\n",
       "      <th>target</th>\n",
       "      <th>text</th>\n",
       "      <th>text_cleaned</th>\n",
       "    </tr>\n",
       "  </thead>\n",
       "  <tbody>\n",
       "    <tr>\n",
       "      <th>0</th>\n",
       "      <td>alt.atheism</td>\n",
       "      <td>From: mathew &lt;mathew@mantis.co.uk&gt;\\nSubject: A...</td>\n",
       "      <td>atheist resources addresses atheist organizati...</td>\n",
       "    </tr>\n",
       "    <tr>\n",
       "      <th>1</th>\n",
       "      <td>alt.atheism</td>\n",
       "      <td>From: mathew &lt;mathew@mantis.co.uk&gt;\\nSubject: A...</td>\n",
       "      <td>begin pgp signed message introduction atheism ...</td>\n",
       "    </tr>\n",
       "    <tr>\n",
       "      <th>2</th>\n",
       "      <td>alt.atheism</td>\n",
       "      <td>From: I3150101@dbstu1.rz.tu-bs.de (Benedikt Ro...</td>\n",
       "      <td>article charley wingate writes well john quite...</td>\n",
       "    </tr>\n",
       "    <tr>\n",
       "      <th>3</th>\n",
       "      <td>alt.atheism</td>\n",
       "      <td>From: mathew &lt;mathew@mantis.co.uk&gt;\\nSubject: R...</td>\n",
       "      <td>kings become philosophers philosophers become ...</td>\n",
       "    </tr>\n",
       "    <tr>\n",
       "      <th>4</th>\n",
       "      <td>alt.atheism</td>\n",
       "      <td>From: strom@Watson.Ibm.Com (Rob Strom)\\nSubjec...</td>\n",
       "      <td>article bob mcgwier writes however hate econom...</td>\n",
       "    </tr>\n",
       "  </tbody>\n",
       "</table>\n",
       "</div>"
      ],
      "text/plain": [
       "        target                                               text  \\\n",
       "0  alt.atheism  From: mathew <mathew@mantis.co.uk>\\nSubject: A...   \n",
       "1  alt.atheism  From: mathew <mathew@mantis.co.uk>\\nSubject: A...   \n",
       "2  alt.atheism  From: I3150101@dbstu1.rz.tu-bs.de (Benedikt Ro...   \n",
       "3  alt.atheism  From: mathew <mathew@mantis.co.uk>\\nSubject: R...   \n",
       "4  alt.atheism  From: strom@Watson.Ibm.Com (Rob Strom)\\nSubjec...   \n",
       "\n",
       "                                        text_cleaned  \n",
       "0  atheist resources addresses atheist organizati...  \n",
       "1  begin pgp signed message introduction atheism ...  \n",
       "2  article charley wingate writes well john quite...  \n",
       "3  kings become philosophers philosophers become ...  \n",
       "4  article bob mcgwier writes however hate econom...  "
      ]
     },
     "execution_count": 5,
     "metadata": {},
     "output_type": "execute_result"
    }
   ],
   "source": [
    "newsgroup_df = pd.read_csv(\"20newsgroup_preprocessed.csv\", sep=';')\n",
    "newsgroup_df.head()"
   ]
  },
  {
   "cell_type": "code",
   "execution_count": 141,
   "metadata": {},
   "outputs": [],
   "source": [
    "D = newsgroup_df['text_cleaned']\n",
    "D = D.dropna()\n",
    "tokenizedD = D.str.split()"
   ]
  },
  {
   "cell_type": "code",
   "execution_count": 15,
   "metadata": {},
   "outputs": [
    {
     "name": "stdout",
     "output_type": "stream",
     "text": [
      "Unexpected exception formatting exception. Falling back to standard exception\n"
     ]
    },
    {
     "name": "stderr",
     "output_type": "stream",
     "text": [
      "Traceback (most recent call last):\n",
      "  File \"c:\\Users\\tripa\\anaconda3\\lib\\site-packages\\IPython\\core\\interactiveshell.py\", line 3460, in run_code\n",
      "    exec(code_obj, self.user_global_ns, self.user_ns)\n",
      "  File \"C:\\Users\\tripa\\AppData\\Local\\Temp\\ipykernel_27796\\1438830031.py\", line -1, in <module>\n",
      "KeyboardInterrupt\n",
      "\n",
      "During handling of the above exception, another exception occurred:\n",
      "\n",
      "Traceback (most recent call last):\n",
      "  File \"c:\\Users\\tripa\\anaconda3\\lib\\site-packages\\IPython\\core\\interactiveshell.py\", line 2057, in showtraceback\n",
      "    stb = self.InteractiveTB.structured_traceback(\n",
      "  File \"c:\\Users\\tripa\\anaconda3\\lib\\site-packages\\IPython\\core\\ultratb.py\", line 1118, in structured_traceback\n",
      "    return FormattedTB.structured_traceback(\n",
      "  File \"c:\\Users\\tripa\\anaconda3\\lib\\site-packages\\IPython\\core\\ultratb.py\", line 1012, in structured_traceback\n",
      "    return VerboseTB.structured_traceback(\n",
      "  File \"c:\\Users\\tripa\\anaconda3\\lib\\site-packages\\IPython\\core\\ultratb.py\", line 865, in structured_traceback\n",
      "    formatted_exception = self.format_exception_as_a_whole(etype, evalue, etb, number_of_lines_of_context,\n",
      "  File \"c:\\Users\\tripa\\anaconda3\\lib\\site-packages\\IPython\\core\\ultratb.py\", line 818, in format_exception_as_a_whole\n",
      "    frames.append(self.format_record(r))\n",
      "  File \"c:\\Users\\tripa\\anaconda3\\lib\\site-packages\\IPython\\core\\ultratb.py\", line 736, in format_record\n",
      "    result += ''.join(_format_traceback_lines(frame_info.lines, Colors, self.has_colors, lvals))\n",
      "  File \"c:\\Users\\tripa\\anaconda3\\lib\\site-packages\\stack_data\\utils.py\", line 145, in cached_property_wrapper\n",
      "    value = obj.__dict__[self.func.__name__] = self.func(obj)\n",
      "  File \"c:\\Users\\tripa\\anaconda3\\lib\\site-packages\\stack_data\\core.py\", line 698, in lines\n",
      "    pieces = self.included_pieces\n",
      "  File \"c:\\Users\\tripa\\anaconda3\\lib\\site-packages\\stack_data\\utils.py\", line 145, in cached_property_wrapper\n",
      "    value = obj.__dict__[self.func.__name__] = self.func(obj)\n",
      "  File \"c:\\Users\\tripa\\anaconda3\\lib\\site-packages\\stack_data\\core.py\", line 649, in included_pieces\n",
      "    pos = scope_pieces.index(self.executing_piece)\n",
      "  File \"c:\\Users\\tripa\\anaconda3\\lib\\site-packages\\stack_data\\utils.py\", line 145, in cached_property_wrapper\n",
      "    value = obj.__dict__[self.func.__name__] = self.func(obj)\n",
      "  File \"c:\\Users\\tripa\\anaconda3\\lib\\site-packages\\stack_data\\core.py\", line 628, in executing_piece\n",
      "    return only(\n",
      "  File \"c:\\Users\\tripa\\anaconda3\\lib\\site-packages\\executing\\executing.py\", line 164, in only\n",
      "    raise NotOneValueFound('Expected one value, found 0')\n",
      "executing.executing.NotOneValueFound: Expected one value, found 0\n"
     ]
    }
   ],
   "source": [
    "V = []\n",
    "for d in D:\n",
    "    words = d\n",
    "    for word in words:\n",
    "        if word not in V:\n",
    "            V.append(word)"
   ]
  },
  {
   "cell_type": "code",
   "execution_count": 17,
   "metadata": {},
   "outputs": [
    {
     "data": {
      "text/html": [
       "<style>#sk-container-id-1 {color: black;background-color: white;}#sk-container-id-1 pre{padding: 0;}#sk-container-id-1 div.sk-toggleable {background-color: white;}#sk-container-id-1 label.sk-toggleable__label {cursor: pointer;display: block;width: 100%;margin-bottom: 0;padding: 0.3em;box-sizing: border-box;text-align: center;}#sk-container-id-1 label.sk-toggleable__label-arrow:before {content: \"▸\";float: left;margin-right: 0.25em;color: #696969;}#sk-container-id-1 label.sk-toggleable__label-arrow:hover:before {color: black;}#sk-container-id-1 div.sk-estimator:hover label.sk-toggleable__label-arrow:before {color: black;}#sk-container-id-1 div.sk-toggleable__content {max-height: 0;max-width: 0;overflow: hidden;text-align: left;background-color: #f0f8ff;}#sk-container-id-1 div.sk-toggleable__content pre {margin: 0.2em;color: black;border-radius: 0.25em;background-color: #f0f8ff;}#sk-container-id-1 input.sk-toggleable__control:checked~div.sk-toggleable__content {max-height: 200px;max-width: 100%;overflow: auto;}#sk-container-id-1 input.sk-toggleable__control:checked~label.sk-toggleable__label-arrow:before {content: \"▾\";}#sk-container-id-1 div.sk-estimator input.sk-toggleable__control:checked~label.sk-toggleable__label {background-color: #d4ebff;}#sk-container-id-1 div.sk-label input.sk-toggleable__control:checked~label.sk-toggleable__label {background-color: #d4ebff;}#sk-container-id-1 input.sk-hidden--visually {border: 0;clip: rect(1px 1px 1px 1px);clip: rect(1px, 1px, 1px, 1px);height: 1px;margin: -1px;overflow: hidden;padding: 0;position: absolute;width: 1px;}#sk-container-id-1 div.sk-estimator {font-family: monospace;background-color: #f0f8ff;border: 1px dotted black;border-radius: 0.25em;box-sizing: border-box;margin-bottom: 0.5em;}#sk-container-id-1 div.sk-estimator:hover {background-color: #d4ebff;}#sk-container-id-1 div.sk-parallel-item::after {content: \"\";width: 100%;border-bottom: 1px solid gray;flex-grow: 1;}#sk-container-id-1 div.sk-label:hover label.sk-toggleable__label {background-color: #d4ebff;}#sk-container-id-1 div.sk-serial::before {content: \"\";position: absolute;border-left: 1px solid gray;box-sizing: border-box;top: 0;bottom: 0;left: 50%;z-index: 0;}#sk-container-id-1 div.sk-serial {display: flex;flex-direction: column;align-items: center;background-color: white;padding-right: 0.2em;padding-left: 0.2em;position: relative;}#sk-container-id-1 div.sk-item {position: relative;z-index: 1;}#sk-container-id-1 div.sk-parallel {display: flex;align-items: stretch;justify-content: center;background-color: white;position: relative;}#sk-container-id-1 div.sk-item::before, #sk-container-id-1 div.sk-parallel-item::before {content: \"\";position: absolute;border-left: 1px solid gray;box-sizing: border-box;top: 0;bottom: 0;left: 50%;z-index: -1;}#sk-container-id-1 div.sk-parallel-item {display: flex;flex-direction: column;z-index: 1;position: relative;background-color: white;}#sk-container-id-1 div.sk-parallel-item:first-child::after {align-self: flex-end;width: 50%;}#sk-container-id-1 div.sk-parallel-item:last-child::after {align-self: flex-start;width: 50%;}#sk-container-id-1 div.sk-parallel-item:only-child::after {width: 0;}#sk-container-id-1 div.sk-dashed-wrapped {border: 1px dashed gray;margin: 0 0.4em 0.5em 0.4em;box-sizing: border-box;padding-bottom: 0.4em;background-color: white;}#sk-container-id-1 div.sk-label label {font-family: monospace;font-weight: bold;display: inline-block;line-height: 1.2em;}#sk-container-id-1 div.sk-label-container {text-align: center;}#sk-container-id-1 div.sk-container {/* jupyter's `normalize.less` sets `[hidden] { display: none; }` but bootstrap.min.css set `[hidden] { display: none !important; }` so we also need the `!important` here to be able to override the default hidden behavior on the sphinx rendered scikit-learn.org. See: https://github.com/scikit-learn/scikit-learn/issues/21755 */display: inline-block !important;position: relative;}#sk-container-id-1 div.sk-text-repr-fallback {display: none;}</style><div id=\"sk-container-id-1\" class=\"sk-top-container\"><div class=\"sk-text-repr-fallback\"><pre>TfidfVectorizer()</pre><b>In a Jupyter environment, please rerun this cell to show the HTML representation or trust the notebook. <br />On GitHub, the HTML representation is unable to render, please try loading this page with nbviewer.org.</b></div><div class=\"sk-container\" hidden><div class=\"sk-item\"><div class=\"sk-estimator sk-toggleable\"><input class=\"sk-toggleable__control sk-hidden--visually\" id=\"sk-estimator-id-1\" type=\"checkbox\" checked><label for=\"sk-estimator-id-1\" class=\"sk-toggleable__label sk-toggleable__label-arrow\">TfidfVectorizer</label><div class=\"sk-toggleable__content\"><pre>TfidfVectorizer()</pre></div></div></div></div></div>"
      ],
      "text/plain": [
       "TfidfVectorizer()"
      ]
     },
     "execution_count": 17,
     "metadata": {},
     "output_type": "execute_result"
    }
   ],
   "source": [
    "tfidf = TfidfVectorizer()\n",
    "tfidf"
   ]
  },
  {
   "cell_type": "code",
   "execution_count": 35,
   "metadata": {},
   "outputs": [
    {
     "data": {
      "text/plain": [
       "(9000, 101185)"
      ]
     },
     "execution_count": 35,
     "metadata": {},
     "output_type": "execute_result"
    }
   ],
   "source": [
    "X = tfidf.fit_transform(D[:9000]).toarray()\n",
    "X.shape"
   ]
  },
  {
   "cell_type": "code",
   "execution_count": 181,
   "metadata": {},
   "outputs": [],
   "source": [
    "lsa = TruncatedSVD(n_components=100)"
   ]
  },
  {
   "cell_type": "code",
   "execution_count": 182,
   "metadata": {},
   "outputs": [
    {
     "data": {
      "text/plain": [
       "(9000, 100)"
      ]
     },
     "execution_count": 182,
     "metadata": {},
     "output_type": "execute_result"
    }
   ],
   "source": [
    "V_t = lsa.fit_transform(X)\n",
    "V_t.shape"
   ]
  },
  {
   "cell_type": "code",
   "execution_count": 183,
   "metadata": {},
   "outputs": [
    {
     "data": {
      "text/plain": [
       "array(['aa', 'aaa', 'aaaa', ..., 'ñaustin', 'úz', 'ÿhooked'], dtype=object)"
      ]
     },
     "execution_count": 183,
     "metadata": {},
     "output_type": "execute_result"
    }
   ],
   "source": [
    "K = V_t.argmax(axis=1).tolist()\n",
    "tfidf.get_feature_names_out()"
   ]
  },
  {
   "cell_type": "code",
   "execution_count": 184,
   "metadata": {},
   "outputs": [],
   "source": [
    "def get_top_n_words(n):\n",
    "    \n",
    "    top_indices = []\n",
    "    # Get top words for every topic we need\n",
    "    for topic in range(100):\n",
    "        temp_vector = 0\n",
    "        for i in range(len(K)):\n",
    "            # If the key is same as topic number, we add the key position to the vector of the topic\n",
    "            if K[i] == topic:\n",
    "                temp_vector += X[i]\n",
    "        temp_vector_array = temp_vector\n",
    "        # For each topic we get the n top words by sorting the vector\n",
    "        # print(temp_vector_array.shape)\n",
    "        # print(np.flip(np.argsort(temp_vector_array))[:n], 0)\n",
    "        # print(tfidf.get_feature_names_out()[94753])\n",
    "        top_n_word_indices = np.flip(np.argsort(temp_vector_array),0)[:n]\n",
    "        top_indices.append(top_n_word_indices)\n",
    "      \n",
    "    words = []\n",
    "    for topic in top_indices:\n",
    "        topic_words = []\n",
    "        for index in topic:\n",
    "            word = tfidf.get_feature_names_out()[index]\n",
    "            topic_words.append(word)\n",
    "        words.append(\" \".join(topic_words))\n",
    "       \n",
    "    return words"
   ]
  },
  {
   "cell_type": "code",
   "execution_count": 185,
   "metadata": {},
   "outputs": [
    {
     "name": "stdout",
     "output_type": "stream",
     "text": [
      "Topic 1:  would writes one like article know get thanks\n",
      "Topic 2:  drive mb card controller disk meg floppy scsi\n",
      "Topic 3:  scsi drive ide drives controller hard mb disk\n",
      "Topic 4:  windows dos os nt svein apps ini emm\n",
      "Topic 5:  card video dx bus mhz drivers vlb ati\n",
      "Topic 6:  god atheism faith religion believe atheists exist atheist\n",
      "Topic 7:  window bit image bits display images visual colormap\n",
      "Topic 8:  window monitor expose event manager problem colors screen\n",
      "Topic 9:  sale condition offer excellent shipping asking price email\n",
      "Topic 10:  window card font windows irq tonis cornerstone com\n",
      "Topic 11:  mhz dx thanks clock advance speed window motherboard\n",
      "Topic 12:  car cars dealer tax ford insurance new safety\n",
      "Topic 13:  com port modem irq serial ports printer mouse\n",
      "Topic 14:  com irq interrupt card bus port devices ports\n",
      "Topic 15:  file swap ns macintosh sipps sale please meg\n",
      "Topic 16:  file manager print annese soundexe drag article doug\n",
      "Topic 17:  team year games cubs game pitching braves season\n",
      "Topic 18:  format convert file window pgm utility files gif\n",
      "Topic 19:  simms mb simm ns pin vram meg memory\n",
      "Topic 20:  printer fonts print font laser postscript windows hp\n",
      "Topic 21:  morality moral system objective keith natural animals species\n",
      "Topic 22:  mouse driver adb motion microsoft jump smoothly serial\n",
      "Topic 23:  disks shipping mac registration manuals disk iv manual\n",
      "Topic 24:  list mailing unsubscribe subscribe send bmw motif senner\n",
      "Topic 25:  monitor im looking keyboard mag nanao system damico\n",
      "Topic 26:  list bit mailing thanks images please display one\n",
      "Topic 27:  im looking vga server please geico email cheap\n",
      "Topic 28:  dos floppyburn goshi virusit windowscrash iti ms copy\n",
      "Topic 29:  disks read mac mb macseezip tried pc write\n",
      "Topic 30:  manta opel chintan amin writes gibbons gt darren\n",
      "Topic 31:  nubus pds lc dos iii eliot marvin slot\n",
      "Topic 32:  program simms ns anyone meg colormaps allocate moolit\n",
      "Topic 33:  aspects group graphics groups wate split convenience ch\n",
      "Topic 34:  dos mpc looking andor information cusp ferdinand library\n",
      "Topic 35:  mr engine cars commericial xjs engines legend jaguar\n",
      "Topic 36:  god system please blashephemers damnation technion power graphics\n",
      "Topic 37:  one anyone tek ellis omaha charlie offer angel\n",
      "Topic 38:  comics st hulk wolverine spiderman xforce copies new\n",
      "Topic 39:  anyone file memory emm malouf thanks marc core\n",
      "Topic 40:  program power obo comptest uninstall tasmania stereo vcr\n",
      "Topic 41:  one islam islamic diving bcci prevented muslim kreme\n",
      "Topic 42:  modem bis hst baud data fax robotics bps\n",
      "Topic 43:  bbs fonts error font directory would bbss code\n",
      "Topic 44:  called tzip grfwk everthing accelaratores msdosgraphics wuarchive od\n",
      "Topic 45:  art cologne erwin chain fight ticket lube edition\n",
      "Topic 46:  goh cd davison airfares wilbur kwang arroyo certificate\n",
      "Topic 47:  memory xputimage server emm sunview image shared derek\n",
      "Topic 48:  points bitmap xman polygon number sutcliffe code sphere\n",
      "Topic 49:  morgan reconsidered leather good tony ive gloves qehonda\n",
      "Topic 50:  dx cpu chip fan intel heat hot sink\n",
      "Topic 51:  motorcycles motorcycle newused guide buying microprocessors amd pat\n",
      "Topic 52:  oil miles drain change service every cars plug\n",
      "Topic 53:  bmug bbs firstclass bmugs planet contained reflect views\n",
      "Topic 54:  oo abpsoft mehl beck andre brain inside unix\n",
      "Topic 55:  price disk apple automobile sola cars picture find\n",
      "Topic 56:  shaft wheel ground wheelie front stafford john wheelies\n",
      "Topic 57:  kwansik interliving thanks calgary noonan jsn jeremy dma\n",
      "Topic 58:  vin scully shea stadium underpowered love sean bag\n",
      "Topic 59:  slot lciii heard powerpc alr pureesageccjcs stalnaker ernest\n",
      "Topic 60:  chemistry book paperback shaftdrive wheelie guide writing petrucci\n",
      "Topic 61:  pearl sh benson pc cell original nf gantz\n",
      "Topic 62:  beauchaine sank manhattan bronx queens blew sea bob\n",
      "Topic 63:  near howard appcontext greene xtappaddtimeout call give xmotif\n",
      "Topic 64:  phonecord thanks xtdm gateway dennis advance canon deye\n",
      "Topic 65:  risc instruction cisc set reduced computer architecture circuit\n",
      "Topic 66:  behanna chris jubilees fxwg glide corn lady nec\n",
      "Topic 67:  colin god dividing taglines files techniciandr declared ethertalk\n",
      "Topic 68:  liar book lunatic rh christian singapore koresh dlb\n",
      "Topic 69:  cpu fan heat sink fans alain chip computationally\n",
      "Topic 70:  hclexceed coordinate pcx xy hummingbird converts plot pcxview\n",
      "Topic 71:  os polygon routine bank islamic bcci polygons ibm\n",
      "Topic 72:  dog dogs version trained dod biscayne lb advantages\n",
      "Topic 73:  clutch geico price radar std gears honda aircraft\n",
      "Topic 74:  widget gl vv motif circular widgets steve backup\n",
      "Topic 75:  time cpu dialog curtis umm popup bake timmons\n",
      "Topic 76:  darkman champion albert einstein solved eternal significant problems\n",
      "Topic 77:  cd sound sega board unfair cds funetfi turbo\n",
      "Topic 78:  duo brandon mitserverddxmfbmfbcustomh wise stolen cormack figured lies\n",
      "Topic 79:  maxaxaxaxaxaxaxaxaxaxaxaxaxaxax fb vg di ei mq ww um\n",
      "Topic 80:  subscribe email please anybody shop subscrive ubject graphics\n",
      "Topic 81:  offline spigot spread lc rick excellent bob contact\n",
      "Topic 82:  vt xgif hawk spos honda bmw twin plant\n",
      "Topic 83:  cover vesa mode tsr hard ivanov james serge\n",
      "Topic 84:  linehan gifsjpegsps sw impared prosecution splashing xpm midi\n",
      "Topic 85:  inguiry address diablo boesel ftp pager congress con\n",
      "Topic 86:  aa\n",
      "Topic 87:  test must erme dream laws verb advantage viper\n",
      "Topic 88:  morgan tony qehonda emailin bromley cheek towers kidson\n",
      "Topic 89:  loopback pins connector serial port pubmapdem kingman pin\n",
      "Topic 90:  sleeve gear helmet picture foam wheelspin autobox libraries\n",
      "Topic 91:  nick bmw pettefar kay bnr mlud pbwasohuk contractorlarge\n",
      "Topic 92:  steer westinghouse desotos left georgia manufacture countersteering hand\n",
      "Topic 93:  blah says title dta krzysztof go fli need\n",
      "Topic 94:  tiff testing ppd gif pcx cuesta hello bmp\n",
      "Topic 95:  vv eeeee calibra ee doug tt polygon opel\n",
      "Topic 96:  ken andy keycode belville key fallen kenneth beautiful\n",
      "Topic 97:  keyboard ink key hp datadesk pages bj waterfast\n",
      "Topic 98:  subscribe infiniti hi rainer xpert lexus eastwick rawley\n",
      "Topic 99:  rocks kids honda overpass cars cnns factiod months\n",
      "Topic 100:  tiff spec dolven read doug xv heard programs\n"
     ]
    }
   ],
   "source": [
    "top_n_words = get_top_n_words(8)\n",
    "\n",
    "for i in range(len(top_n_words)):\n",
    "    print(f\"Topic {i+1}: \", top_n_words[i])"
   ]
  },
  {
   "cell_type": "code",
   "execution_count": 186,
   "metadata": {},
   "outputs": [
    {
     "data": {
      "text/plain": [
       "(100, 101185)"
      ]
     },
     "execution_count": 186,
     "metadata": {},
     "output_type": "execute_result"
    }
   ],
   "source": [
    "U = lsa.components_\n",
    "U.shape\n"
   ]
  },
  {
   "cell_type": "code",
   "execution_count": 187,
   "metadata": {},
   "outputs": [
    {
     "data": {
      "text/plain": [
       "(101185, 100)"
      ]
     },
     "execution_count": 187,
     "metadata": {},
     "output_type": "execute_result"
    }
   ],
   "source": [
    "U = U.transpose()\n",
    "U.shape"
   ]
  },
  {
   "cell_type": "code",
   "execution_count": 188,
   "metadata": {},
   "outputs": [],
   "source": [
    "w = w2v(sentences=tokenizedD, window=10)"
   ]
  },
  {
   "cell_type": "code",
   "execution_count": 189,
   "metadata": {},
   "outputs": [
    {
     "data": {
      "text/plain": [
       "[('islands', 0.8994759321212769),\n",
       " ('spain', 0.8929166197776794),\n",
       " ('athletic', 0.8906872868537903),\n",
       " ('arabian', 0.8889362812042236),\n",
       " ('corfu', 0.8880494832992554),\n",
       " ('qatar', 0.887898325920105),\n",
       " ('persecutions', 0.8873692750930786),\n",
       " ('sultan', 0.8865421414375305),\n",
       " ('republics', 0.8860727548599243),\n",
       " ('alliance', 0.8832847476005554)]"
      ]
     },
     "execution_count": 189,
     "metadata": {},
     "output_type": "execute_result"
    }
   ],
   "source": [
    "w.wv.most_similar('asia')"
   ]
  },
  {
   "cell_type": "code",
   "execution_count": 210,
   "metadata": {},
   "outputs": [],
   "source": [
    "np.random.seed(seed=101)\n",
    "V = []\n",
    "for i in range(len(U)):\n",
    "    V.append(np.random.random(100)/10)\n",
    "\n",
    "V = np.array(V)\n"
   ]
  },
  {
   "cell_type": "code",
   "execution_count": 212,
   "metadata": {},
   "outputs": [
    {
     "data": {
      "text/plain": [
       "(202370, 100)"
      ]
     },
     "execution_count": 212,
     "metadata": {},
     "output_type": "execute_result"
    }
   ],
   "source": [
    "Theta = np.concatenate((V,U))\n",
    "Theta.shape"
   ]
  },
  {
   "cell_type": "code",
   "execution_count": 236,
   "metadata": {},
   "outputs": [
    {
     "data": {
      "text/plain": [
       "0.565861831899503"
      ]
     },
     "execution_count": 236,
     "metadata": {},
     "output_type": "execute_result"
    }
   ],
   "source": [
    "def sigmoid(x):\n",
    "    return 1/(1+math.exp(-x))\n"
   ]
  },
  {
   "cell_type": "code",
   "execution_count": 234,
   "metadata": {},
   "outputs": [
    {
     "data": {
      "text/plain": [
       "array(['batting', 'justifications', 'ikqsilmct', 'vsqge', 'hypotheses',\n",
       "       'fgrgwmwrgwmwahf', 'nkjfjrlbktndmnfxr', 'gditho', 'lkg',\n",
       "       'galactus'], dtype='<U171')"
      ]
     },
     "execution_count": 234,
     "metadata": {},
     "output_type": "execute_result"
    }
   ],
   "source": [
    "n = 1\n",
    "unigram = np.array(list(ngrams(tfidf.get_feature_names_out(), n)))\n",
    "unigram = unigram.reshape((101185,))\n",
    "\n",
    "def sample():\n",
    "    return np.random.choice(unigram, 10)\n",
    "\n",
    "sample()"
   ]
  },
  {
   "cell_type": "code",
   "execution_count": 237,
   "metadata": {},
   "outputs": [],
   "source": [
    "def J_t(u0: np.ndarray, vC: np.ndarray):\n",
    "    a = math.log(sigmoid(np.dot(u0,vC)))\n",
    "    b = 0\n",
    "    negative_sample = sample()\n",
    "    for j in range(len(negative_sample)):\n",
    "        b += math.log(sigmoid(-np.dot(negative_sample[j], vC)))"
   ]
  },
  {
   "cell_type": "code",
   "execution_count": null,
   "metadata": {},
   "outputs": [],
   "source": []
  }
 ],
 "metadata": {
  "kernelspec": {
   "display_name": "base",
   "language": "python",
   "name": "python3"
  },
  "language_info": {
   "codemirror_mode": {
    "name": "ipython",
    "version": 3
   },
   "file_extension": ".py",
   "mimetype": "text/x-python",
   "name": "python",
   "nbconvert_exporter": "python",
   "pygments_lexer": "ipython3",
   "version": "3.10.9"
  }
 },
 "nbformat": 4,
 "nbformat_minor": 2
}
